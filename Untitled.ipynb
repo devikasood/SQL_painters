{
 "cells": [
  {
   "cell_type": "code",
   "execution_count": 5,
   "id": "d581fb3f-c67e-4b97-8f22-fdf692a21bcf",
   "metadata": {},
   "outputs": [],
   "source": [
    "import pandas as pd\n",
    "from sqlalchemy import create_engine"
   ]
  },
  {
   "cell_type": "code",
   "execution_count": 6,
   "id": "f2bbf397-ebad-462b-8e36-fd62dcd8b55f",
   "metadata": {},
   "outputs": [],
   "source": [
    "conn_string = 'sqlite:///painting.db'\n",
    "db = create_engine(conn_string)\n",
    "conn = db.connect()"
   ]
  },
  {
   "cell_type": "code",
   "execution_count": 7,
   "id": "2fa3d742-711a-402c-acfa-c4ebc6918644",
   "metadata": {},
   "outputs": [],
   "source": [
    "files = ['artist', 'canvas_size', 'image_link', 'museum_hours', 'museum', 'product_size', 'subject', 'work']"
   ]
  },
  {
   "cell_type": "code",
   "execution_count": 14,
   "id": "b3852088-11a3-45e6-8f51-746cd4e85853",
   "metadata": {},
   "outputs": [],
   "source": [
    "for file in files:\n",
    "    df = pd.read_csv(f'{file}.csv')\n",
    "    df.to_sql(file, con = conn, if_exists = 'replace', index = False)"
   ]
  },
  {
   "cell_type": "code",
   "execution_count": 27,
   "id": "c0d60b45-44d7-497a-a761-88437976f497",
   "metadata": {},
   "outputs": [
    {
     "name": "stdout",
     "output_type": "stream",
     "text": [
      "   cid          name    type  notnull dflt_value  pk\n",
      "0    0     artist_id  BIGINT        0       None   0\n",
      "1    1     full_name    TEXT        0       None   0\n",
      "2    2    first_name    TEXT        0       None   0\n",
      "3    3  middle_names    TEXT        0       None   0\n",
      "4    4     last_name    TEXT        0       None   0\n",
      "5    5   nationality    TEXT        0       None   0\n",
      "6    6         style    TEXT        0       None   0\n",
      "7    7         birth  BIGINT        0       None   0\n",
      "8    8         death  BIGINT        0       None   0\n"
     ]
    }
   ],
   "source": [
    "query = \"PRAGMA table_info(artist)\"\n",
    "result_df = pd.read_sql_query(query, conn)\n",
    "print(result_df)"
   ]
  },
  {
   "cell_type": "code",
   "execution_count": 30,
   "id": "d3d25792-eb05-4203-9644-346a3b5dd5b0",
   "metadata": {},
   "outputs": [
    {
     "name": "stdout",
     "output_type": "stream",
     "text": [
      "   cid     name    type  notnull dflt_value  pk\n",
      "0    0  size_id  BIGINT        0       None   0\n",
      "1    1    width  BIGINT        0       None   0\n",
      "2    2   height   FLOAT        0       None   0\n",
      "3    3    label    TEXT        0       None   0\n"
     ]
    }
   ],
   "source": [
    "query = \"PRAGMA table_info(canvas_size)\"\n",
    "result_df = pd.read_sql_query(query, conn)\n",
    "print(result_df)"
   ]
  },
  {
   "cell_type": "code",
   "execution_count": 29,
   "id": "701f3f64-3d6b-4873-87e6-ab801d640a48",
   "metadata": {},
   "outputs": [
    {
     "name": "stdout",
     "output_type": "stream",
     "text": [
      "   cid                 name    type  notnull dflt_value  pk\n",
      "0    0              work_id  BIGINT        0       None   0\n",
      "1    1                  url    TEXT        0       None   0\n",
      "2    2  thumbnail_small_url    TEXT        0       None   0\n",
      "3    3  thumbnail_large_url    TEXT        0       None   0\n"
     ]
    }
   ],
   "source": [
    "query = \"PRAGMA table_info(image_link)\"\n",
    "result_df = pd.read_sql_query(query, conn)\n",
    "print(result_df)"
   ]
  },
  {
   "cell_type": "code",
   "execution_count": 31,
   "id": "6d18a98e-cb8d-4859-b5ac-4ccda51406bb",
   "metadata": {},
   "outputs": [
    {
     "name": "stdout",
     "output_type": "stream",
     "text": [
      "   cid       name    type  notnull dflt_value  pk\n",
      "0    0  museum_id  BIGINT        0       None   0\n",
      "1    1        day    TEXT        0       None   0\n",
      "2    2       open    TEXT        0       None   0\n",
      "3    3      close    TEXT        0       None   0\n"
     ]
    }
   ],
   "source": [
    "query = \"PRAGMA table_info(museum_hours)\"\n",
    "result_df = pd.read_sql_query(query, conn)\n",
    "print(result_df)"
   ]
  },
  {
   "cell_type": "code",
   "execution_count": 32,
   "id": "c71c82fe-f396-47e8-a0c3-91a4906730c6",
   "metadata": {},
   "outputs": [
    {
     "name": "stdout",
     "output_type": "stream",
     "text": [
      "   cid       name    type  notnull dflt_value  pk\n",
      "0    0  museum_id  BIGINT        0       None   0\n",
      "1    1       name    TEXT        0       None   0\n",
      "2    2    address    TEXT        0       None   0\n",
      "3    3       city    TEXT        0       None   0\n",
      "4    4      state    TEXT        0       None   0\n",
      "5    5     postal    TEXT        0       None   0\n",
      "6    6    country    TEXT        0       None   0\n",
      "7    7      phone    TEXT        0       None   0\n",
      "8    8        url    TEXT        0       None   0\n"
     ]
    }
   ],
   "source": [
    "query = \"PRAGMA table_info(museum)\"\n",
    "result_df = pd.read_sql_query(query, conn)\n",
    "print(result_df)"
   ]
  },
  {
   "cell_type": "code",
   "execution_count": 33,
   "id": "c28e26aa-b4dd-4cb2-8e7d-cad7fb705cdb",
   "metadata": {},
   "outputs": [
    {
     "name": "stdout",
     "output_type": "stream",
     "text": [
      "   cid           name    type  notnull dflt_value  pk\n",
      "0    0        work_id  BIGINT        0       None   0\n",
      "1    1        size_id    TEXT        0       None   0\n",
      "2    2     sale_price  BIGINT        0       None   0\n",
      "3    3  regular_price  BIGINT        0       None   0\n"
     ]
    }
   ],
   "source": [
    "query = \"PRAGMA table_info(product_size)\"\n",
    "result_df = pd.read_sql_query(query, conn)\n",
    "print(result_df)"
   ]
  },
  {
   "cell_type": "code",
   "execution_count": 35,
   "id": "a9afe286-7db8-4aec-b16c-cec56bde34bb",
   "metadata": {},
   "outputs": [
    {
     "name": "stdout",
     "output_type": "stream",
     "text": [
      "   cid     name    type  notnull dflt_value  pk\n",
      "0    0  work_id  BIGINT        0       None   0\n",
      "1    1  subject    TEXT        0       None   0\n"
     ]
    }
   ],
   "source": [
    "query = \"PRAGMA table_info(subject)\"\n",
    "result_df = pd.read_sql_query(query, conn)\n",
    "print(result_df)"
   ]
  },
  {
   "cell_type": "code",
   "execution_count": 36,
   "id": "c7b4e4ef-3ae7-4b37-8737-76c1980f0bbd",
   "metadata": {},
   "outputs": [
    {
     "name": "stdout",
     "output_type": "stream",
     "text": [
      "   cid       name    type  notnull dflt_value  pk\n",
      "0    0    work_id  BIGINT        0       None   0\n",
      "1    1       name    TEXT        0       None   0\n",
      "2    2  artist_id  BIGINT        0       None   0\n",
      "3    3      style    TEXT        0       None   0\n",
      "4    4  museum_id   FLOAT        0       None   0\n"
     ]
    }
   ],
   "source": [
    "query = \"PRAGMA table_info(work)\"\n",
    "result_df = pd.read_sql_query(query, conn)\n",
    "print(result_df)"
   ]
  },
  {
   "cell_type": "code",
   "execution_count": 37,
   "id": "c50bc8b2-772f-49d8-9e54-1c2986b477f6",
   "metadata": {},
   "outputs": [
    {
     "name": "stdout",
     "output_type": "stream",
     "text": [
      "       work_id                                          name  artist_id  \\\n",
      "0       125752                     Arabian Horses at Pasture        757   \n",
      "1       125818              Count Halm on His Basedow Estate        757   \n",
      "2       125763  Napoleon Before the Burning City of Smolensk        757   \n",
      "3       125774                 Peasants Resting in the Field        757   \n",
      "4       125785       Portrait Oberleutnant Theodor Von Klein        757   \n",
      "...        ...                                           ...        ...   \n",
      "10218     8273                         Waiting for an Answer        794   \n",
      "10219     8283                      West Point, Prout's Neck        794   \n",
      "10220     8285                                  Winding Line        794   \n",
      "10221   184820                                      Untitled        620   \n",
      "10222   184829                                      Untitled        620   \n",
      "\n",
      "              style museum_id  \n",
      "0           Baroque      None  \n",
      "1           Baroque      None  \n",
      "2           Baroque      None  \n",
      "3           Baroque      None  \n",
      "4           Baroque      None  \n",
      "...             ...       ...  \n",
      "10218  American Art      None  \n",
      "10219  American Art      None  \n",
      "10220  American Art      None  \n",
      "10221    Surrealism      None  \n",
      "10222    Surrealism      None  \n",
      "\n",
      "[10223 rows x 5 columns]\n"
     ]
    }
   ],
   "source": [
    "# 1) Fetch all the paintings which are not displayed on any museums?\n",
    "query = \"SELECT * FROM work WHERE museum_id is NULL\"\n",
    "result_df = pd.read_sql_query(query, conn)\n",
    "print(result_df)"
   ]
  },
  {
   "cell_type": "code",
   "execution_count": 46,
   "id": "6dba4ff2-db9f-4112-badb-700c1dd9ebfc",
   "metadata": {},
   "outputs": [
    {
     "name": "stdout",
     "output_type": "stream",
     "text": [
      "Empty DataFrame\n",
      "Columns: [museum_id, name, address, city, state, postal, country, phone, url]\n",
      "Index: []\n"
     ]
    }
   ],
   "source": [
    "# 2) Are there museuems without any paintings?\n",
    "query2 = \"SELECT * FROM museum m WHERE NOT EXISTS (SELECT 1 FROM work w WHERE w.museum_id = m.museum_id)\"\n",
    "result_df2 = pd.read_sql_query(query2, conn)\n",
    "print(result_df2)"
   ]
  },
  {
   "cell_type": "code",
   "execution_count": 45,
   "id": "716d9b73-a374-48d1-ae5e-1b3321aad44a",
   "metadata": {},
   "outputs": [
    {
     "name": "stdout",
     "output_type": "stream",
     "text": [
      "Empty DataFrame\n",
      "Columns: [work_id, size_id, sale_price, regular_price]\n",
      "Index: []\n"
     ]
    }
   ],
   "source": [
    "# 3) How many paintings have an asking price of more than their regular price? \n",
    "query3 = \"select * from product_size where sale_price > regular_price\"\n",
    "result_df3 = pd.read_sql_query(query3, conn)\n",
    "print(result_df3)"
   ]
  },
  {
   "cell_type": "code",
   "execution_count": 47,
   "id": "3a54ac09-c34a-41ed-849e-1bb75090df8b",
   "metadata": {},
   "outputs": [
    {
     "name": "stdout",
     "output_type": "stream",
     "text": [
      "    work_id  size_id  sale_price  regular_price\n",
      "0     31780       36          10            125\n",
      "1     31780       30          10             95\n",
      "2     31780       36          10            125\n",
      "3     31780       30          10             95\n",
      "4    198417       36          30            125\n",
      "5    198417       30          30             95\n",
      "6     31974       24          30             85\n",
      "7     17351       24          10             85\n",
      "8     17351       30          10             95\n",
      "9     17351       36          10            125\n",
      "10    30947     3024         285            575\n",
      "11    30947     3226         305            645\n",
      "12    23710       30          20             95\n",
      "13    23710       24          20             85\n",
      "14    20084     6040         585           1245\n",
      "15   133971  #VALUE!        1025           2235\n",
      "16    28259       30          40             95\n",
      "17    28259       24          40             85\n",
      "18    28261       24          40             85\n",
      "19    28261       30          40             95\n",
      "20    28273       24          40             85\n",
      "21    28273       30          40             95\n",
      "22    28279       48          60            165\n",
      "23    28279       40          60            145\n",
      "24    28279       36          60            125\n",
      "25    28287       30          40             95\n",
      "26    28287       36          40            125\n",
      "27    28295       20          30             75\n",
      "28    28295       24          30             85\n",
      "29    28295       30          30             95\n",
      "30    28297       36          50            125\n",
      "31   169367       36          50            125\n",
      "32   190824     6040         635           1275\n",
      "33     4455     4848         505           1015\n",
      "34   190960     2936         335            695\n",
      "35   190940     3629         335            695\n",
      "36   190950     3629         335            695\n",
      "37      404   2823.2         265            545\n",
      "38     2858     2420         245            515\n",
      "39     2862     3226         305            615\n",
      "40     7335     2632         305            615\n",
      "41     7335     3040         385            775\n",
      "42     7339     3226         305            615\n",
      "43     7339     4030         385            775\n",
      "44     6504       36          30            125\n",
      "45     6504       30          30             95\n",
      "46     6504       24          30             85\n",
      "47     6546       24          30             85\n",
      "48     6546       30          30             95\n",
      "49     6546       36          30            125\n",
      "50     6558       24          30             85\n",
      "51     6558       30          30             95\n",
      "52   133520  #VALUE!         965           2015\n",
      "53     4703     4848         505           1015\n",
      "54      961     4060         615           1255\n",
      "55     8191     3624         315            635\n",
      "56     8225     2632         305            625\n",
      "57     8225     3040         385            775\n"
     ]
    }
   ],
   "source": [
    "# 4) Identify the paintings whose asking price is less than 50% of its regular price\n",
    "query4 = \"select *  from product_size where sale_price < (regular_price*0.5)\"\t\n",
    "result_df4 = pd.read_sql_query(query4, conn)\n",
    "print(result_df4)"
   ]
  },
  {
   "cell_type": "code",
   "execution_count": 49,
   "id": "b217e43a-fd93-4351-8430-b68856a53d99",
   "metadata": {},
   "outputs": [
    {
     "name": "stdout",
     "output_type": "stream",
     "text": [
      "           artist_name nationality  no_of_paintings\n",
      "0  Jan Willem Pieneman       Dutch               14\n",
      "1     Vincent Van Gogh       Dutch               14\n"
     ]
    }
   ],
   "source": [
    "query = '''select full_name as artist_name, nationality, no_of_paintings\n",
    "\tfrom (\n",
    "\t\tselect a.full_name, a.nationality\n",
    "\t\t,count(1) as no_of_paintings\n",
    "\t\t,rank() over(order by count(1) desc) as rnk\n",
    "\t\tfrom work w\n",
    "\t\tjoin artist a on a.artist_id=w.artist_id\n",
    "\t\tjoin subject s on s.work_id=w.work_id\n",
    "\t\tjoin museum m on m.museum_id=w.museum_id\n",
    "\t\twhere s.subject='Portraits'\n",
    "\t\tand m.country != 'USA'\n",
    "\t\tgroup by a.full_name, a.nationality) x\n",
    "\twhere rnk=1 '''\n",
    "result_df = pd.read_sql_query(query, conn)\n",
    "print(result_df)"
   ]
  },
  {
   "cell_type": "code",
   "execution_count": 52,
   "id": "4854bcc4-c352-42ec-9879-04eb196924ec",
   "metadata": {},
   "outputs": [
    {
     "name": "stdout",
     "output_type": "stream",
     "text": [
      "   nationality  COUNT(artist_id)\n",
      "0      Mexican                 1\n",
      "1       Danish                 2\n",
      "2        Irish                 2\n",
      "3     Japanese                 2\n",
      "4    Norwegian                 2\n",
      "5     Canadian                 3\n",
      "6      Belgian                 4\n",
      "7     Austrian                 6\n",
      "8      Flemish                 8\n",
      "9      Spanish                10\n",
      "10       Swiss                11\n",
      "11     Russian                14\n",
      "12      German                20\n",
      "13     Italian                26\n",
      "14     English                44\n",
      "15       Dutch                68\n",
      "16    American                83\n",
      "17      French               115\n"
     ]
    }
   ],
   "source": [
    "#Q: NUMBER OF ARTISTS OF EACH NATIONALITY\n",
    "query = \"SELECT nationality, COUNT(artist_id) FROM artist GROUP BY nationality ORDER BY COUNT(artist_id)\"\n",
    "result_df = pd.read_sql_query(query, conn)\n",
    "print(result_df)"
   ]
  },
  {
   "cell_type": "code",
   "execution_count": 53,
   "id": "b096e7e1-f6ef-4b03-a910-7094d973bb06",
   "metadata": {},
   "outputs": [
    {
     "name": "stdout",
     "output_type": "stream",
     "text": [
      "     first_name\n",
      "0        Pierre\n",
      "1     Alexandre\n",
      "2         James\n",
      "3    Maximilien\n",
      "4        August\n",
      "..          ...\n",
      "214         Max\n",
      "215        Carl\n",
      "216      Daniel\n",
      "217   Rembrandt\n",
      "218      Edmund\n",
      "\n",
      "[219 rows x 1 columns]\n"
     ]
    }
   ],
   "source": [
    "#Q: DISPLAY ALL THE UNIQUE FIRST NAMES OF ARTISTS\n",
    "query = \"SELECT DISTINCT first_name FROM artist\"\n",
    "result_df = pd.read_sql_query(query, conn)\n",
    "print(result_df)"
   ]
  },
  {
   "cell_type": "code",
   "execution_count": 54,
   "id": "0c858ee4-88ea-40c7-b0a3-97c56aa2d7b9",
   "metadata": {},
   "outputs": [
    {
     "name": "stdout",
     "output_type": "stream",
     "text": [
      "                   style  COUNT(artist_id)\n",
      "0           America West                 1\n",
      "1      Early Renaissance                 2\n",
      "2                Ukiyo-e                 2\n",
      "3          American West                 3\n",
      "4                   Folk                 3\n",
      "5              Mannerist                 3\n",
      "6             Surrealist                 3\n",
      "7             Modern Art                 4\n",
      "8            Art Nouveau                 5\n",
      "9            Avant-Garde                 5\n",
      "10               Fauvist                 5\n",
      "11              Futurist                 5\n",
      "12      High Renaissance                 5\n",
      "13         Landscape Art                 6\n",
      "14            Naturalist                 6\n",
      "15  Northern Renaissance                 6\n",
      "16           Pointillist                 6\n",
      "17                  Nabi                 7\n",
      "18                Cubist                 8\n",
      "19           Orientalist                 9\n",
      "20           Renaissance                 9\n",
      "21              Colonial                11\n",
      "22             Symbolist                12\n",
      "23            Classicist                14\n",
      "24   Hudson River School                14\n",
      "25    Post-Impressionist                16\n",
      "26          Neoclassical                17\n",
      "27              Romantic                17\n",
      "28           Portraitist                18\n",
      "29            Marine Art                20\n",
      "30                Rococo                23\n",
      "31         Expressionist                25\n",
      "32               Realist                35\n",
      "33         Impressionist                42\n",
      "34               Baroque                54\n"
     ]
    }
   ],
   "source": [
    "#Q: NUMBER OF ARTISTS OF EACH STYLE\n",
    "query = \"SELECT style, COUNT(artist_id) FROM artist GROUP BY style ORDER BY COUNT(artist_id)\"\n",
    "result_df = pd.read_sql_query(query, conn)\n",
    "print(result_df)"
   ]
  },
  {
   "cell_type": "code",
   "execution_count": 57,
   "id": "d9fb10eb-a6c7-4905-a636-33189435a35a",
   "metadata": {},
   "outputs": [
    {
     "name": "stdout",
     "output_type": "stream",
     "text": [
      "    museum_id\n",
      "0          32\n",
      "1          33\n",
      "2          35\n",
      "3          36\n",
      "4          37\n",
      "5          39\n",
      "6          40\n",
      "7          41\n",
      "8          42\n",
      "9          43\n",
      "10         44\n",
      "11         45\n",
      "12         46\n",
      "13         47\n",
      "14         48\n",
      "15         49\n",
      "16         50\n",
      "17         52\n",
      "18         53\n",
      "19         55\n",
      "20         56\n",
      "21         57\n",
      "22         60\n",
      "23         62\n",
      "24         64\n",
      "25         65\n",
      "26         67\n",
      "27         69\n",
      "28         70\n",
      "29         71\n",
      "30         72\n",
      "31         73\n",
      "32         74\n",
      "33         75\n",
      "34         76\n",
      "35         78\n",
      "36         79\n",
      "37         81\n",
      "38         82\n",
      "39         84\n",
      "40         86\n"
     ]
    }
   ],
   "source": [
    "#Q: DISPLAY THE MUSEUM ID OF MUSEUMS WHICH ARE OPEN ON SUNDAY after 10AM\n",
    "query = \"SELECT museum_id FROM museum_hours WHERE day = 'Sunday' AND open <= '10:00:AM'\"\n",
    "result_df = pd.read_sql_query(query, conn)\n",
    "print(result_df)"
   ]
  },
  {
   "cell_type": "code",
   "execution_count": 59,
   "id": "2bd1d9ae-5a17-48a2-86e6-ba94e388652f",
   "metadata": {},
   "outputs": [
    {
     "name": "stdout",
     "output_type": "stream",
     "text": [
      "                             name\n",
      "0        The Museum of Modern Art\n",
      "1  The Metropolitan Museum of Art\n",
      "2    Solomon R. Guggenheim Museum\n"
     ]
    }
   ],
   "source": [
    "#Q: NAME OF ALL MUSEUMS PRESENT IN NEW YORK \n",
    "query = \"SELECT name FROM museum WHERE city = 'New York'\"\n",
    "result_df = pd.read_sql_query(query, conn)\n",
    "print(result_df)"
   ]
  },
  {
   "cell_type": "code",
   "execution_count": 60,
   "id": "7d23ce23-268c-4e60-ba72-5b9b229a8826",
   "metadata": {},
   "outputs": [
    {
     "name": "stdout",
     "output_type": "stream",
     "text": [
      "                           name\n",
      "0  National Gallery of Victoria\n",
      "1       National Gallery of Art\n",
      "2              National Gallery\n",
      "3    Hungarian National Gallery\n",
      "4              The Tate Gallery\n",
      "5          Uffizi Gallery Italy\n",
      "6            Walker Art Gallery\n",
      "7       National Gallery Prague\n",
      "8             Courtauld Gallery\n"
     ]
    }
   ],
   "source": [
    "#Q: LIST ALL THE MUSEUMS WHOSE NAME CONTAINS 'GALLERY'\n",
    "query = \"SELECT name FROM museum WHERE name LIKE '%gallery%'\"\n",
    "result_df = pd.read_sql_query(query, conn)\n",
    "print(result_df)"
   ]
  },
  {
   "cell_type": "code",
   "execution_count": 76,
   "id": "c4383c46-31fe-49e0-9e46-44cf28a42ec4",
   "metadata": {},
   "outputs": [
    {
     "name": "stdout",
     "output_type": "stream",
     "text": [
      "                             name      open     close\n",
      "0        The Museum of Modern Art  10:30:AM  05:30:PM\n",
      "1        The Museum of Modern Art  10:30:AM  07:00:PM\n",
      "2  The Metropolitan Museum of Art  10:00:AM  05:00:PM\n",
      "3  The Metropolitan Museum of Art  10:00:AM  05:30:PM\n",
      "4  The Metropolitan Museum of Art  10:00:AM  09:00:PM\n",
      "5    Solomon R. Guggenheim Museum  11:00:AM  06:00:PM\n",
      "6    Solomon R. Guggenheim Museum  11:00:AM  08:00:PM\n"
     ]
    }
   ],
   "source": [
    "#Q: LIST THE OPENEING AND CLOSING TIMES OF ALL THE MUSEUMS LOCATED IN NEW YORK\n",
    "query = \"SELECT DISTINCT m.name, m2.open, m2.close FROM museum m INNER JOIN museum_hours m2 ON m.museum_id = m2.museum_id WHERE city = 'New York'\"\n",
    "result_df = pd.read_sql_query(query, conn)\n",
    "print(result_df)"
   ]
  },
  {
   "cell_type": "code",
   "execution_count": 69,
   "id": "47917ac9-8f50-4bff-8685-7654aa48526b",
   "metadata": {},
   "outputs": [
    {
     "name": "stdout",
     "output_type": "stream",
     "text": [
      "                                          name    subject\n",
      "0                           Comedian Tournelle  Portraits\n",
      "1                             Madame de Genlis  Portraits\n",
      "2                             Monsieur Meunier  Portraits\n",
      "3                         Pierre Roch Vigneron  Portraits\n",
      "4     Portrait de Madame La Comtesse de Lameth  Portraits\n",
      "...                                        ...        ...\n",
      "1065                Portrait of a Lady in Pink  Portraits\n",
      "1066                Portrait of Clara Stephens  Portraits\n",
      "1067                  Portrait of Mrs. C Shawl  Portraits\n",
      "1068                        Portrait of a Lady  Portraits\n",
      "1069                       Portrait of Pauline  Portraits\n",
      "\n",
      "[1070 rows x 2 columns]\n"
     ]
    }
   ],
   "source": [
    "#Q: DISPLAY THE NAME OF ALL PORTRAITS\n",
    "query = \"SELECT work.name, subject.subject FROM work INNER JOIN subject ON work.work_id = subject.work_id WHERE subject.subject = 'Portraits'\"\n",
    "result_df = pd.read_sql_query(query, conn)\n",
    "print(result_df)"
   ]
  },
  {
   "cell_type": "code",
   "execution_count": 79,
   "id": "1508dd65-39eb-4226-80e4-415c6736590c",
   "metadata": {},
   "outputs": [
    {
     "name": "stdout",
     "output_type": "stream",
     "text": [
      "   work_id\n",
      "0     3505\n"
     ]
    }
   ],
   "source": [
    "#Q: WORK ID OF 3RD COSTLIEST PAINTING\n",
    "query = \"SELECT work_id FROM product_size ORDER BY sale_price DESC LIMIT 2, 1\"\n",
    "result_df = pd.read_sql_query(query, conn)\n",
    "print(result_df)"
   ]
  }
 ],
 "metadata": {
  "kernelspec": {
   "display_name": "Python 3 (ipykernel)",
   "language": "python",
   "name": "python3"
  },
  "language_info": {
   "codemirror_mode": {
    "name": "ipython",
    "version": 3
   },
   "file_extension": ".py",
   "mimetype": "text/x-python",
   "name": "python",
   "nbconvert_exporter": "python",
   "pygments_lexer": "ipython3",
   "version": "3.12.4"
  }
 },
 "nbformat": 4,
 "nbformat_minor": 5
}
